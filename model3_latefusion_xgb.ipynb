{
  "cells": [
    {
      "cell_type": "code",
      "execution_count": 2,
      "metadata": {
        "colab": {
          "base_uri": "https://localhost:8080/"
        },
        "id": "x-DDG1iVxjQc",
        "outputId": "2a94faf2-5e8f-443a-9b17-66ffec25518d"
      },
      "outputs": [],
      "source": [
        "import zipfile\n",
        "import os\n",
        "\n",
        "with zipfile.ZipFile(\"images.zip\", \"r\") as zip_ref:\n",
        "    zip_ref.extractall(\".\")"
      ]
    },
    {
      "cell_type": "code",
      "execution_count": 3,
      "metadata": {
        "id": "ASrfOuc8zEtN"
      },
      "outputs": [],
      "source": [
        "import os\n",
        "import pandas as pd\n",
        "import numpy as np\n",
        "from sklearn.model_selection import train_test_split\n",
        "from sklearn.preprocessing import StandardScaler, LabelEncoder\n",
        "from sklearn.metrics import accuracy_score\n",
        "\n",
        "import tensorflow as tf\n",
        "from tensorflow.keras.preprocessing.image import load_img, img_to_array\n",
        "from tensorflow.keras.models import Sequential\n",
        "from tensorflow.keras.layers import Conv2D, MaxPooling2D, Flatten, Dense, Dropout\n",
        "from tensorflow.keras.utils import to_categorical\n",
        "\n",
        "import xgboost as xgb"
      ]
    },
    {
      "cell_type": "code",
      "execution_count": 4,
      "metadata": {
        "id": "7_1KC_2LzXqI"
      },
      "outputs": [],
      "source": [
        "\n",
        "\n",
        "IMG_SIZE = (128, 128)\n",
        "image_dir = 'images'\n",
        "\n",
        "image_data = []\n",
        "image_labels = []\n",
        "image_filenames = []\n",
        "\n",
        "for class_label in ['infected', 'not_infected']:\n",
        "    folder_path = os.path.join(image_dir, class_label)\n",
        "    for i, filename in enumerate(os.listdir(folder_path)):\n",
        "        if filename.lower().endswith(('.png', '.jpg', '.jpeg')):\n",
        "            filepath = os.path.join(folder_path, filename)\n",
        "            img = load_img(filepath, target_size=IMG_SIZE)\n",
        "            img_array = img_to_array(img) / 255.0\n",
        "            image_data.append(img_array)\n",
        "            image_labels.append(1 if class_label == 'infected' else 0)\n",
        "            image_filenames.append(f\"{class_label}_{i}\")\n",
        "\n",
        "# Create a labels dataframe\n",
        "labels_df = pd.DataFrame({\n",
        "    'filename': image_filenames,\n",
        "    'label': image_labels\n",
        "})\n",
        "\n",
        "X_img = np.array(image_data)\n",
        "y_img = np.array(image_labels)\n"
      ]
    },
    {
      "cell_type": "code",
      "execution_count": 5,
      "metadata": {
        "id": "Lx9Ad5vtzc5r"
      },
      "outputs": [],
      "source": [
        "df = pd.read_csv('hormone_data.csv')\n",
        "\n",
        "# Binary columns\n",
        "binary_cols = ['Pregnant(Y/N)', 'Weight gain(Y/N)', 'hair growth(Y/N)',\n",
        "               'Skin darkening (Y/N)', 'Hair loss(Y/N)', 'Pimples(Y/N)',\n",
        "               'Fast food (Y/N)', 'Reg.Exercise(Y/N)', 'PCOS (Y/N)']\n",
        "ri_cols = ['Cycle(R/I)']\n",
        "\n",
        "# Replace values\n",
        "df[binary_cols] = df[binary_cols].replace({'Y': 1, 'N': 0})\n",
        "df[ri_cols] = df[ri_cols].replace({'R': 1, 'I': 0})\n",
        "\n",
        "# Drop non-numeric\n",
        "df = df.drop(columns=['Blood Group'])\n",
        "\n",
        "# Clean missing values\n",
        "df = df.replace(\"?\", np.nan).dropna()\n",
        "df = df.apply(pd.to_numeric, errors='coerce').dropna()\n",
        "\n",
        "X_tab = df.drop(columns=['PCOS (Y/N)'])\n",
        "y_tab = df['PCOS (Y/N)'].astype(int).values\n",
        "\n",
        "from sklearn.preprocessing import StandardScaler\n",
        "scaler = StandardScaler()\n",
        "X_tab_scaled = scaler.fit_transform(X_tab)\n",
        "\n",
        "# Now align both datasets to the minimum length\n",
        "min_len = min(len(X_img), len(X_tab_scaled))\n",
        "X_img, y_img = X_img[:min_len], y_img[:min_len]\n",
        "X_tab_scaled, y_tab = X_tab_scaled[:min_len], y_tab[:min_len]\n"
      ]
    },
    {
      "cell_type": "code",
      "execution_count": 6,
      "metadata": {
        "colab": {
          "base_uri": "https://localhost:8080/"
        },
        "id": "3fJlpg5m58sG",
        "outputId": "55abf3f2-7d23-4d4b-f5c6-a7633071f5f8"
      },
      "outputs": [
        {
          "name": "stdout",
          "output_type": "stream",
          "text": [
            "Epoch 1/10\n",
            "16/16 [==============================] - 9s 479ms/step - loss: 0.6344 - accuracy: 0.7455 - val_loss: 0.2345 - val_accuracy: 0.9286\n",
            "Epoch 2/10\n",
            "16/16 [==============================] - 6s 349ms/step - loss: 0.2021 - accuracy: 0.9419 - val_loss: 0.0890 - val_accuracy: 0.9643\n",
            "Epoch 3/10\n",
            "16/16 [==============================] - 5s 330ms/step - loss: 0.1244 - accuracy: 0.9679 - val_loss: 0.0353 - val_accuracy: 1.0000\n",
            "Epoch 4/10\n",
            "16/16 [==============================] - 6s 361ms/step - loss: 0.0519 - accuracy: 0.9920 - val_loss: 0.0208 - val_accuracy: 1.0000\n",
            "Epoch 5/10\n",
            "16/16 [==============================] - 6s 367ms/step - loss: 0.0424 - accuracy: 0.9880 - val_loss: 0.0140 - val_accuracy: 1.0000\n",
            "Epoch 6/10\n",
            "16/16 [==============================] - 6s 363ms/step - loss: 0.0374 - accuracy: 0.9940 - val_loss: 0.0198 - val_accuracy: 1.0000\n",
            "Epoch 7/10\n",
            "16/16 [==============================] - 6s 399ms/step - loss: 0.0230 - accuracy: 0.9960 - val_loss: 0.0056 - val_accuracy: 1.0000\n",
            "Epoch 8/10\n",
            "16/16 [==============================] - 6s 374ms/step - loss: 0.0134 - accuracy: 0.9960 - val_loss: 0.0051 - val_accuracy: 1.0000\n",
            "Epoch 9/10\n",
            "16/16 [==============================] - 6s 382ms/step - loss: 0.0073 - accuracy: 0.9980 - val_loss: 0.0052 - val_accuracy: 1.0000\n",
            "Epoch 10/10\n",
            "16/16 [==============================] - 7s 418ms/step - loss: 0.0096 - accuracy: 0.9980 - val_loss: 0.0315 - val_accuracy: 0.9821\n",
            "5/5 [==============================] - 1s 88ms/step\n"
          ]
        }
      ],
      "source": [
        "X_img_train, X_img_test, y_img_train, y_img_test = train_test_split(X_img, y_img, test_size=0.2, random_state=42)\n",
        "\n",
        "cnn_model = Sequential([\n",
        "    Conv2D(32, (3,3), activation='relu', input_shape=(128, 128, 3)),\n",
        "    MaxPooling2D(),\n",
        "    Conv2D(64, (3,3), activation='relu'),\n",
        "    MaxPooling2D(),\n",
        "    Flatten(),\n",
        "    Dense(64, activation='relu'),\n",
        "    Dropout(0.5),\n",
        "    Dense(1, activation='sigmoid')\n",
        "])\n",
        "\n",
        "cnn_model.compile(optimizer='adam', loss='binary_crossentropy', metrics=['accuracy'])\n",
        "cnn_model.fit(X_img_train, y_img_train, epochs=10, batch_size=32, validation_split=0.1)\n",
        "\n",
        "# Predict probabilities\n",
        "cnn_preds = cnn_model.predict(X_img_test).flatten()\n",
        "\n"
      ]
    },
    {
      "cell_type": "code",
      "execution_count": 7,
      "metadata": {
        "colab": {
          "base_uri": "https://localhost:8080/"
        },
        "id": "Mf3RCMui6QAw",
        "outputId": "7f4b6688-247d-49e6-9c1d-0eee0755497f"
      },
      "outputs": [
        {
          "name": "stdout",
          "output_type": "stream",
          "text": [
            "Late Fusion Accuracy: 0.5035971223021583\n"
          ]
        },
        {
          "name": "stderr",
          "output_type": "stream",
          "text": [
            "c:\\Users\\User\\Desktop\\Major-Project\\venv\\lib\\site-packages\\xgboost\\training.py:183: UserWarning: [21:32:32] WARNING: C:\\actions-runner\\_work\\xgboost\\xgboost\\src\\learner.cc:738: \n",
            "Parameters: { \"use_label_encoder\" } are not used.\n",
            "\n",
            "  bst.update(dtrain, iteration=i, fobj=obj)\n"
          ]
        }
      ],
      "source": [
        "# -------------------- STEP 4: TRAIN XGBOOST FOR HORMONE DATA --------------------\n",
        "X_tab_train, X_tab_test, y_tab_train, y_tab_test = train_test_split(X_tab_scaled, y_tab, test_size=0.2, random_state=42)\n",
        "\n",
        "xgb_model = xgb.XGBClassifier(use_label_encoder=False, eval_metric='logloss')\n",
        "xgb_model.fit(X_tab_train, y_tab_train)\n",
        "\n",
        "xgb_preds = xgb_model.predict_proba(X_tab_test)[:, 1]\n",
        "\n",
        "# -------------------- STEP 5: LATE FUSION (Weighted Average) --------------------\n",
        "final_preds = (0.5 * cnn_preds) + (0.5 * xgb_preds)\n",
        "final_labels = (final_preds > 0.5).astype(int)\n",
        "\n",
        "# -------------------- EVALUATION --------------------\n",
        "acc = accuracy_score(y_tab_test, final_labels)\n",
        "print(\"Late Fusion Accuracy:\", acc)"
      ]
    },
    {
      "cell_type": "code",
      "execution_count": 11,
      "metadata": {
        "colab": {
          "base_uri": "https://localhost:8080/"
        },
        "id": "0WOPlYiM7A7h",
        "outputId": "f9c93f8f-99e0-46b1-d108-b053b8253de2"
      },
      "outputs": [],
      "source": [
        "# Save models in Colab\n",
        "cnn_model.save('cnn_model_late.h5')\n",
        "\n",
        "import pickle\n",
        "with open('xgb_model.pkl', 'wb') as f:\n",
        "    pickle.dump(xgb_model, f)\n",
        "\n",
        "with open('xgb_feature_names.pkl', 'wb') as f:\n",
        "    pickle.dump(X_tab.columns.tolist(), f)\n",
        "    \n",
        "\n",
        "with open('scaler.pkl', 'wb') as f:\n",
        "    pickle.dump(scaler, f)\n"
      ]
    },
    {
      "cell_type": "code",
      "execution_count": 12,
      "metadata": {
        "id": "fSp5t0yX1ZlB"
      },
      "outputs": [],
      "source": [
        "import pandas as pd\n",
        "\n",
        "# Fill in values for one patient — make sure to provide ALL 43 feature values in correct order\n",
        "data = {\n",
        "    'Age (yrs)': 28,\n",
        "    'Weight (Kg)': 44.6,\n",
        "    'Height(Cm)': 152,\n",
        "    'BMI': 19.3,\n",
        "    'Pulse rate(bpm) ': 78,\n",
        "    'RR (breaths/min)': 22,\n",
        "    'Hb(g/dl)': 10.48,\n",
        "    'Cycle(R/I)': 'R',                # Again, encode as used during training\n",
        "    'Cycle length(days)': 5,\n",
        "    'Marraige Status (Yrs)': 7,\n",
        "    'Pregnant(Y/N)': 0,\n",
        "    'No. of abortions': 0,\n",
        "    '  I   beta-HCG(mIU/mL)': 1.99,\n",
        "    'II    beta-HCG(mIU/mL)': 1.99,\n",
        "    'FSH(mIU/mL)': 7.95,\n",
        "    'LH(mIU/mL)': 3.68,\n",
        "    'FSH/LH': 2.16,\n",
        "    'Hip(inch)': 36,\n",
        "    'Waist(inch)': 30,\n",
        "    'Waist:Hip Ratio': 0.83,\n",
        "    'TSH (mIU/L)': 0.68,\n",
        "    'AMH(ng/mL)': 2.07,\n",
        "    'PRL(ng/mL)': 45.16,\n",
        "    'Vit D3 (ng/mL)': 17.1,\n",
        "    'PRG(ng/mL)': 0.57,\n",
        "    'RBS(mg/dl)': 92,\n",
        "    'Weight gain(Y/N)': 0,\n",
        "    'hair growth(Y/N)': 0,\n",
        "    'Skin darkening (Y/N)': 0,\n",
        "    'Hair loss(Y/N)': 0,\n",
        "    'Pimples(Y/N)': 0,\n",
        "    'Fast food (Y/N)': 1,\n",
        "    'Reg.Exercise(Y/N)': 0,\n",
        "    'BP _Systolic (mmHg)': 110,\n",
        "    'BP _Diastolic (mmHg)': 80,\n",
        "    'Follicle No. (L)': 3,\n",
        "    'Follicle No. (R)': 3,\n",
        "    'Avg. F size (L) (mm)': 18,\n",
        "    'Avg. F size (R) (mm)': 18,\n",
        "    'Endometrium (mm)': 8.5,\n",
        "    'PCOS (Y/N)': 0\n",
        "}\n",
        "\n",
        "# Create DataFrame\n",
        "df = pd.DataFrame([data])\n",
        "\n",
        "# Save to CSV\n",
        "df.to_csv(\"hormone_sample_xgb.csv\", index=False)"
      ]
    }
  ],
  "metadata": {
    "colab": {
      "provenance": []
    },
    "kernelspec": {
      "display_name": "Python 3",
      "name": "python3"
    },
    "language_info": {
      "codemirror_mode": {
        "name": "ipython",
        "version": 3
      },
      "file_extension": ".py",
      "mimetype": "text/x-python",
      "name": "python",
      "nbconvert_exporter": "python",
      "pygments_lexer": "ipython3",
      "version": "3.10.11"
    }
  },
  "nbformat": 4,
  "nbformat_minor": 0
}
