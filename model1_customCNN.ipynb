{
  "cells": [
    {
      "cell_type": "code",
      "execution_count": 3,
      "metadata": {
        "colab": {
          "base_uri": "https://localhost:8080/"
        },
        "id": "nC-C7eLOYFGd",
        "outputId": "24ccc71d-997c-44df-fdee-116468bae92a"
      },
      "outputs": [],
      "source": [
        "import zipfile\n",
        "import os\n",
        "\n",
        "with zipfile.ZipFile(\"images.zip\", \"r\") as zip_ref:\n",
        "    zip_ref.extractall(\".\")\n"
      ]
    },
    {
      "cell_type": "code",
      "execution_count": 4,
      "metadata": {
        "colab": {
          "base_uri": "https://localhost:8080/"
        },
        "id": "GIRyvFsSY3k6",
        "outputId": "7363ba42-12c8-43c7-bf87-0b51ce061604"
      },
      "outputs": [
        {
          "name": "stdout",
          "output_type": "stream",
          "text": [
            "['infected', 'not_infected']\n"
          ]
        }
      ],
      "source": [
        "print(os.listdir(\"images\"))"
      ]
    },
    {
      "cell_type": "code",
      "execution_count": 5,
      "metadata": {
        "colab": {
          "base_uri": "https://localhost:8080/"
        },
        "id": "ZgSX23iJUS50",
        "outputId": "a5b1b64e-23b2-4eec-99df-ffb0cd5f00fb"
      },
      "outputs": [
        {
          "name": "stdout",
          "output_type": "stream",
          "text": [
            "Epoch 1/8\n",
            "14/14 [==============================] - 28s 2s/step - loss: 7.4342 - accuracy: 0.5636 - val_loss: 5.1211 - val_accuracy: 0.5918 - lr: 0.0010\n",
            "Epoch 2/8\n",
            "14/14 [==============================] - 22s 2s/step - loss: 7.6814 - accuracy: 0.5682 - val_loss: 3.6754 - val_accuracy: 0.7143 - lr: 0.0010\n",
            "Epoch 3/8\n",
            "14/14 [==============================] - 21s 2s/step - loss: 3.9920 - accuracy: 0.6545 - val_loss: 3.5094 - val_accuracy: 0.5714 - lr: 0.0010\n",
            "Epoch 4/8\n",
            "14/14 [==============================] - 23s 2s/step - loss: 5.4334 - accuracy: 0.6341 - val_loss: 3.1034 - val_accuracy: 0.6122 - lr: 0.0010\n",
            "Epoch 5/8\n",
            "14/14 [==============================] - 22s 2s/step - loss: 4.6360 - accuracy: 0.6068 - val_loss: 6.2058 - val_accuracy: 0.5102 - lr: 0.0010\n",
            "Epoch 6/8\n",
            "14/14 [==============================] - 22s 2s/step - loss: 6.0879 - accuracy: 0.5364 - val_loss: 2.6963 - val_accuracy: 0.5306 - lr: 0.0010\n",
            "Epoch 7/8\n",
            "14/14 [==============================] - 22s 2s/step - loss: 6.5603 - accuracy: 0.5568 - val_loss: 4.5964 - val_accuracy: 0.5102 - lr: 0.0010\n",
            "Epoch 8/8\n",
            "14/14 [==============================] - 23s 2s/step - loss: 6.4536 - accuracy: 0.5114 - val_loss: 3.2694 - val_accuracy: 0.5510 - lr: 0.0010\n",
            "7/7 [==============================] - 3s 433ms/step - loss: 5.1610 - accuracy: 0.5667\n",
            "Test Accuracy: 0.5667\n"
          ]
        }
      ],
      "source": [
        "import os\n",
        "import numpy as np\n",
        "import pandas as pd\n",
        "from sklearn.model_selection import train_test_split\n",
        "from tensorflow.keras.preprocessing.image import load_img, img_to_array\n",
        "from tensorflow.keras.models import Model\n",
        "from tensorflow.keras.layers import Dense, Flatten, Conv2D, MaxPooling2D, Input, Concatenate\n",
        "from tensorflow.keras.regularizers import l2\n",
        "from tensorflow.keras.callbacks import EarlyStopping, ReduceLROnPlateau\n",
        "import tensorflow as tf\n",
        "\n",
        "# --- Data Loading and Preprocessing ---\n",
        "# Load hormone data\n",
        "hormone_data = pd.read_csv('hormone_data.csv')\n",
        "hormone_data.set_index('Patient File No.', inplace=True)\n",
        "\n",
        "# Initialize data lists\n",
        "images, hormone_values, labels = [], [], []\n",
        "\n",
        "# Define base path for images\n",
        "base_path = 'images'\n",
        "\n",
        "# Load and process images and hormone data\n",
        "for folder in ['infected', 'not_infected']:\n",
        "    folder_path = os.path.join(base_path, folder)\n",
        "    label = 1 if folder == 'infected' else 0\n",
        "\n",
        "    for img_file in os.listdir(folder_path):\n",
        "        patient_id = int(img_file.replace('patient', '').replace('.jpg', ''))\n",
        "        if patient_id in hormone_data.index:\n",
        "            # Process image\n",
        "            img_path = os.path.join(folder_path, img_file)\n",
        "            img = load_img(img_path, target_size=(224, 224))\n",
        "            img_array = img_to_array(img) / 255.0  # Normalize image\n",
        "            images.append(img_array)\n",
        "\n",
        "            # Process hormone data\n",
        "            hormone_row = hormone_data.loc[patient_id].apply(pd.to_numeric, errors='coerce')\n",
        "            hormone_row.fillna(hormone_row.median(), inplace=True)\n",
        "            hormone_values.append(hormone_row.values)\n",
        "            labels.append(label)\n",
        "\n",
        "# Convert data lists to numpy arrays\n",
        "images = np.array(images, dtype='float32')\n",
        "hormone_values = np.array(hormone_values, dtype='float32')\n",
        "labels = np.array(labels, dtype='float32')\n",
        "\n",
        "# Split data into training, validation, and testing sets\n",
        "X_train_images, X_test_images, X_train_hormones, X_test_hormones, y_train, y_test = train_test_split(\n",
        "    images, hormone_values, labels, test_size=0.3, random_state=42, stratify=labels\n",
        ")\n",
        "\n",
        "X_train_images_final, X_val_images, X_train_hormones_final, X_val_hormones, y_train_final, y_val = train_test_split(\n",
        "    X_train_images, X_train_hormones, y_train, test_size=0.1, random_state=42, stratify=y_train\n",
        ")\n",
        "\n",
        "# --- Data Generator Function ---\n",
        "def create_dataset(image_data, hormone_data, labels, batch_size):\n",
        "    dataset = tf.data.Dataset.from_tensor_slices(((image_data, hormone_data), labels))\n",
        "    dataset = dataset.shuffle(buffer_size=len(labels)).batch(batch_size).prefetch(tf.data.AUTOTUNE)\n",
        "    return dataset\n",
        "\n",
        "batch_size = 32\n",
        "train_dataset = create_dataset(X_train_images_final, X_train_hormones_final, y_train_final, batch_size)\n",
        "val_dataset = create_dataset(X_val_images, X_val_hormones, y_val, batch_size)\n",
        "test_dataset = create_dataset(X_test_images, X_test_hormones, y_test, batch_size)\n",
        "\n",
        "# --- Custom CNN Model for Image Encoding ---\n",
        "image_input = Input(shape=(224, 224, 3))\n",
        "cnn_layers = Conv2D(32, (3, 3), activation='relu', kernel_regularizer=l2(0.01))(image_input)\n",
        "cnn_layers = MaxPooling2D((2, 2))(cnn_layers)\n",
        "\n",
        "cnn_layers = Conv2D(64, (3, 3), activation='relu', kernel_regularizer=l2(0.01))(cnn_layers)\n",
        "cnn_layers = MaxPooling2D((2, 2))(cnn_layers)\n",
        "\n",
        "cnn_layers = Conv2D(128, (3, 3), activation='relu', kernel_regularizer=l2(0.01))(cnn_layers)\n",
        "cnn_layers = MaxPooling2D((2, 2))(cnn_layers)\n",
        "\n",
        "cnn_layers = Flatten()(cnn_layers)\n",
        "cnn_output = Dense(128, activation='relu', kernel_regularizer=l2(0.01))(cnn_layers)\n",
        "\n",
        "# --- Hormone Data Encoder ---\n",
        "hormone_input = Input(shape=(X_train_hormones.shape[1],))\n",
        "hormone_encoded = Dense(64, activation='relu', kernel_regularizer=l2(0.01))(hormone_input)\n",
        "hormone_encoded = Dense(32, activation='relu', kernel_regularizer=l2(0.01))(hormone_encoded)\n",
        "\n",
        "# --- Fusion Network ---\n",
        "fused = Concatenate()([cnn_output, hormone_encoded])\n",
        "fused = Dense(128, activation='relu', kernel_regularizer=l2(0.01))(fused)\n",
        "\n",
        "# --- Classifier ---\n",
        "output = Dense(1, activation='sigmoid')(fused)\n",
        "\n",
        "# --- Compile the Model ---\n",
        "multi_modal_model = Model(inputs=[image_input, hormone_input], outputs=output)\n",
        "multi_modal_model.compile(optimizer='adam', loss='binary_crossentropy', metrics=['accuracy'])\n",
        "\n",
        "# --- Callbacks ---\n",
        "early_stopping = EarlyStopping(monitor='val_loss', patience=5, restore_best_weights=True)\n",
        "reduce_lr = ReduceLROnPlateau(monitor='val_loss', factor=0.2, patience=3, min_lr=1e-6)\n",
        "\n",
        "# --- Train the Model ---\n",
        "history = multi_modal_model.fit(\n",
        "    train_dataset,\n",
        "    validation_data=val_dataset,\n",
        "    epochs=8,\n",
        "    callbacks=[early_stopping, reduce_lr],\n",
        "    verbose=1\n",
        ")\n",
        "\n",
        "# --- Evaluate the Model ---\n",
        "test_loss, test_accuracy = multi_modal_model.evaluate(test_dataset)\n",
        "print(f'Test Accuracy: {test_accuracy:.4f}')"
      ]
    },
    {
      "cell_type": "code",
      "execution_count": 6,
      "metadata": {
        "id": "HeVQ-KbcXZyU"
      },
      "outputs": [],
      "source": [
        "import pandas as pd\n",
        "\n",
        "# Fill in values for one patient — make sure to provide ALL 43 feature values in correct order\n",
        "data = {\n",
        "    'Sl. No':1,\n",
        "    'Age (yrs)': 28,\n",
        "    'Weight (Kg)': 44.6,\n",
        "    'Height(Cm)': 152,\n",
        "    'BMI': 19.3,\n",
        "    'Blood Group': 'O+',              # If this was one-hot encoded earlier, use numeric columns instead\n",
        "    'Pulse rate(bpm) ': 78,\n",
        "    'RR (breaths/min)': 22,\n",
        "    'Hb(g/dl)': 10.48,\n",
        "    'Cycle(R/I)': 'R',                # Again, encode as used during training\n",
        "    'Cycle length(days)': 5,\n",
        "    'Marraige Status (Yrs)': 7,\n",
        "    'Pregnant(Y/N)': 0,\n",
        "    'No. of abortions': 0,\n",
        "    '  I   beta-HCG(mIU/mL)': 1.99,\n",
        "    'II    beta-HCG(mIU/mL)': 1.99,\n",
        "    'FSH(mIU/mL)': 7.95,\n",
        "    'LH(mIU/mL)': 3.68,\n",
        "    'FSH/LH': 2.16,\n",
        "    'Hip(inch)': 36,\n",
        "    'Waist(inch)': 30,\n",
        "    'Waist:Hip Ratio': 0.83,\n",
        "    'TSH (mIU/L)': 0.68,\n",
        "    'AMH(ng/mL)': 2.07,\n",
        "    'PRL(ng/mL)': 45.16,\n",
        "    'Vit D3 (ng/mL)': 17.1,\n",
        "    'PRG(ng/mL)': 0.57,\n",
        "    'RBS(mg/dl)': 92,\n",
        "    'Weight gain(Y/N)': 0,\n",
        "    'hair growth(Y/N)': 0,\n",
        "    'Skin darkening (Y/N)': 0,\n",
        "    'Hair loss(Y/N)': 0,\n",
        "    'Pimples(Y/N)': 0,\n",
        "    'Fast food (Y/N)': 1,\n",
        "    'Reg.Exercise(Y/N)': 0,\n",
        "    'BP _Systolic (mmHg)': 110,\n",
        "    'BP _Diastolic (mmHg)': 80,\n",
        "    'Follicle No. (L)': 3,\n",
        "    'Follicle No. (R)': 3,\n",
        "    'Avg. F size (L) (mm)': 18,\n",
        "    'Avg. F size (R) (mm)': 18,\n",
        "    'Endometrium (mm)': 8.5,\n",
        "    'PCOS (Y/N)': 0\n",
        "}\n",
        "\n",
        "# Create DataFrame\n",
        "df = pd.DataFrame([data])\n",
        "\n",
        "# Save to CSV (ready to upload to Colab)\n",
        "df.to_csv(\"hormone_sample.csv\", index=False)\n"
      ]
    },
    {
      "cell_type": "code",
      "execution_count": 7,
      "metadata": {
        "id": "NXpe-KBbELey"
      },
      "outputs": [],
      "source": [
        "import numpy as np\n",
        "import pandas as pd\n",
        "from tensorflow.keras.preprocessing.image import load_img, img_to_array\n",
        "import io\n",
        "\n",
        "# Image preprocessing\n",
        "def preprocess_image(image_path):\n",
        "    img = load_img(image_path, target_size=(224, 224))\n",
        "    img_array = img_to_array(img) / 255.0\n",
        "    return np.expand_dims(img_array, axis=0)\n",
        "\n",
        "# Hormone data preprocessing\n",
        "def preprocess_hormone_row(row, selected_columns):\n",
        "    hormone_values = [row[col] for col in selected_columns]\n",
        "    hormone_array = np.array(hormone_values, dtype=np.float32)\n",
        "    return np.expand_dims(hormone_array, axis=0)\n"
      ]
    },
    {
      "cell_type": "code",
      "execution_count": 8,
      "metadata": {},
      "outputs": [
        {
          "name": "stdout",
          "output_type": "stream",
          "text": [
            "DataFrame shape: (700, 43)\n",
            "DataFrame columns: ['Sl. No', ' Age (yrs)', 'Weight (Kg)', 'Height(Cm) ', 'BMI', 'Blood Group', 'Pulse rate(bpm) ', 'RR (breaths/min)', 'Hb(g/dl)', 'Cycle(R/I)', 'Cycle length(days)', 'Marraige Status (Yrs)', 'Pregnant(Y/N)', 'No. of abortions', '  I   beta-HCG(mIU/mL)', 'II    beta-HCG(mIU/mL)', 'FSH(mIU/mL)', 'LH(mIU/mL)', 'FSH/LH', 'Hip(inch)', 'Waist(inch)', 'Waist:Hip Ratio', 'TSH (mIU/L)', 'AMH(ng/mL)', 'PRL(ng/mL)', 'Vit D3 (ng/mL)', 'PRG(ng/mL)', 'RBS(mg/dl)', 'Weight gain(Y/N)', 'hair growth(Y/N)', 'Skin darkening (Y/N)', 'Hair loss(Y/N)', 'Pimples(Y/N)', 'Fast food (Y/N)', 'Reg.Exercise(Y/N)', 'BP _Systolic (mmHg)', 'BP _Diastolic (mmHg)', 'Follicle No. (L)', 'Follicle No. (R)', 'Avg. F size (L) (mm)', 'Avg. F size (R) (mm)', 'Endometrium (mm)', 'PCOS (Y/N)']\n"
          ]
        }
      ],
      "source": [
        "print(\"DataFrame shape:\", hormone_data.shape)\n",
        "print(\"DataFrame columns:\", list(hormone_data.columns))\n"
      ]
    },
    {
      "cell_type": "code",
      "execution_count": 9,
      "metadata": {
        "id": "EfD3zhinliPg"
      },
      "outputs": [],
      "source": [
        "multi_modal_model.save(\"cnn_model.h5\")\n"
      ]
    }
  ],
  "metadata": {
    "colab": {
      "provenance": []
    },
    "kernelspec": {
      "display_name": "Python 3",
      "name": "python3"
    },
    "language_info": {
      "codemirror_mode": {
        "name": "ipython",
        "version": 3
      },
      "file_extension": ".py",
      "mimetype": "text/x-python",
      "name": "python",
      "nbconvert_exporter": "python",
      "pygments_lexer": "ipython3",
      "version": "3.10.11"
    }
  },
  "nbformat": 4,
  "nbformat_minor": 0
}
